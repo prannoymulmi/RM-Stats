{
 "cells": [
  {
   "metadata": {},
   "cell_type": "markdown",
   "source": "# Jupyter Notebook For Unit 6",
   "id": "8a77807f92f26ee"
  },
  {
   "metadata": {},
   "cell_type": "markdown",
   "source": "## Workbook 6",
   "id": "de68d80b92b737b3"
  },
  {
   "metadata": {
    "ExecuteTime": {
     "end_time": "2024-05-05T12:11:22.749320Z",
     "start_time": "2024-05-05T12:11:22.737407Z"
    }
   },
   "cell_type": "code",
   "source": [
    "import pandas as pd\n",
    "import pprint\n",
    "\n",
    "file_path = 'data/Exe8.2B.xlsx'  # Update this to the path of your Excel file\n",
    "sheet_name = 'Diets'  # Update this with the name of your sheet if needed\n",
    "df = pd.read_excel(file_path, sheet_name=sheet_name)\n",
    "# Specify the columns\n",
    "diet_cl = 'Diet'\n",
    "weight_loss_cl = 'Wtloss'\n",
    "pp = pprint.PrettyPrinter(indent=4)\n",
    "pp.pprint(df[[diet_cl, weight_loss_cl]])"
   ],
   "id": "742c45b6205a2f87",
   "outputs": [
    {
     "name": "stdout",
     "output_type": "stream",
     "text": [
      "   Diet  Wtloss\n",
      "0     A   3.709\n",
      "1     A   7.087\n",
      "2     A   6.754\n",
      "3     A   8.994\n",
      "4     A   9.077\n",
      "..  ...     ...\n",
      "95    B   3.972\n",
      "96    B   2.409\n",
      "97    B   0.569\n",
      "98    B   7.013\n",
      "99    B   2.594\n",
      "\n",
      "[100 rows x 2 columns]\n"
     ]
    }
   ],
   "execution_count": 41
  },
  {
   "metadata": {},
   "cell_type": "markdown",
   "source": "# Diet A Calculations",
   "id": "2549e53acdd2e56d"
  },
  {
   "metadata": {
    "ExecuteTime": {
     "end_time": "2024-05-05T12:11:22.754947Z",
     "start_time": "2024-05-05T12:11:22.750423Z"
    }
   },
   "cell_type": "code",
   "source": [
    "# Filter the DataFrame where Diet has \"Value A\" and Weight loss columns value\n",
    "filtered_df_A = df.loc[(df[diet_cl] == 'A'), weight_loss_cl ]\n",
    "\n",
    "mean_A = filtered_df_A.mean().round(3)\n",
    "std_A = round(filtered_df_A.std(), 3)\n",
    "med_A = round(filtered_df_A.median(),3)\n",
    "pp.pprint(f\"Total Number of Diet A: {len(filtered_df_A)},Mean of Diet A: {mean_A}, Standard Deviation of Diet A: {std_A}\")\n",
    "\n",
    "q1_A = round(filtered_df_A.quantile(0.25),3)\n",
    "q3_A = round(filtered_df_A.quantile(0.75),3)\n",
    "iqr_A = round(q3_A-q1_A,3)\n",
    "pp.pprint(f\"Median Diet A: {med_A}, Q1:{q1_A}, q3:{q3_A}, IQR:{iqr_A}\")"
   ],
   "id": "fbc121e30a2defb3",
   "outputs": [
    {
     "name": "stdout",
     "output_type": "stream",
     "text": [
      "('Total Number of Diet A: 50,Mean of Diet A: 5.341, Standard Deviation of Diet '\n",
      " 'A: 2.536')\n",
      "'Median Diet A: 5.642, Q1:3.748, q3:7.033, IQR:3.285'\n"
     ]
    }
   ],
   "execution_count": 42
  },
  {
   "metadata": {},
   "cell_type": "markdown",
   "source": "# Diet B calculations",
   "id": "f4283f0732cbaec3"
  },
  {
   "metadata": {
    "ExecuteTime": {
     "end_time": "2024-05-05T12:11:22.761254Z",
     "start_time": "2024-05-05T12:11:22.755676Z"
    }
   },
   "cell_type": "code",
   "source": [
    "# Filter the DataFrame where Diet has \"Value B\" and Weight loss columns value\n",
    "filtered_df_B = df.loc[(df[diet_cl] == 'B'), weight_loss_cl ]\n",
    "\n",
    "mean_B = filtered_df_B.mean().round(3)\n",
    "std_B = round(filtered_df_B.std(), 3)\n",
    "med_B = round(filtered_df_B.median(),3)\n",
    "pp.pprint(f\"Total Number of Diet B: {len(filtered_df_B)}, Mean of Diet B: {mean_B}, Standard Deviation of Diet B: {std_B}\")\n",
    "q1_B = round(filtered_df_B.quantile(0.25),3)\n",
    "q3_B = round(filtered_df_B.quantile(0.75),3)\n",
    "iqr_B = round(q3_B-q1_B,3)\n",
    "pp.pprint(f\"Median Diet B: {med_B}, Q1:{q1_B}, q3:{q3_B}, IQR:{iqr_B}\")"
   ],
   "id": "e57ba941fe05ac87",
   "outputs": [
    {
     "name": "stdout",
     "output_type": "stream",
     "text": [
      "('Total Number of Diet B: 50, Mean of Diet B: 3.71, Standard Deviation of Diet '\n",
      " 'B: 2.769')\n",
      "'Median Diet B: 3.745, Q1:1.953, q3:5.404, IQR:3.451'\n"
     ]
    }
   ],
   "execution_count": 43
  },
  {
   "metadata": {},
   "cell_type": "markdown",
   "source": [
    "## Results\n",
    "Results: Diet A (Sample Size =50)\n",
    "\n",
    "| Mean  | Median | Standard Deviation | Q1    | Q3    | IQR   |\n",
    "|-------|--------|--------------------|-------|-------|-------|\n",
    "| 5.341 | 5.642  | 2.536              | 3.748 | 7.033 | 3.285 |\n",
    "\n",
    "Result: Diet B (Sample Size =50)\n",
    "\n",
    "| Mean | Median | Standard Deviation | Q1    | Q3    | IQR   |\n",
    "|------|--------|--------------------|-------|-------|-------|\n",
    "| 3.71 | 3.745  | 2.769              | 1.953 | 5.404 | 3.451 |\n",
    "\n",
    "### Exercise 6.1\n",
    "![alt text](data/ex6-2.png)\n",
    "\n",
    "Looking at the Standard deviations of both Diet A (2.536) and Diet B (2.769) the deviations of the weight loss from are very similar and both data diets exhibit similar variability, However, the mean for Diet A shows a better weight loss of 1.6 kg on average on this sample size of 50, which suggests that Diet A should be preferred. \n",
    "\n",
    "### Exercise 6.2\n",
    "![alt text](data/ex6-2.png)\n",
    "\n",
    "Looking at the sample interquartile range (IQR) for Diet A(3.285) and Diet B (3.451), it can been observed that IQR for Diet B is a bit higher than of Diet A, suggesting that Diet B has is more inconsistent as it has more varying data compared to Diet A. To conclude, Diet A presents a more consistent and effective weight loss compared to Diet B, as the median is higher for Diet A presenting higher effectiveness and more consistent because of less variability due to narrower IQR.  \n",
    "\n",
    "\n"
   ],
   "id": "c32727766274ae17"
  }
 ],
 "metadata": {
  "kernelspec": {
   "display_name": "Python 3",
   "language": "python",
   "name": "python3"
  },
  "language_info": {
   "codemirror_mode": {
    "name": "ipython",
    "version": 2
   },
   "file_extension": ".py",
   "mimetype": "text/x-python",
   "name": "python",
   "nbconvert_exporter": "python",
   "pygments_lexer": "ipython2",
   "version": "2.7.6"
  }
 },
 "nbformat": 4,
 "nbformat_minor": 5
}
