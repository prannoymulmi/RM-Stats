{
 "cells": [
  {
   "metadata": {},
   "cell_type": "markdown",
   "source": [
    "# Unit 9\n",
    "\n",
    "## Data Set D\n",
    "``` txt\n",
    "As part of a marketing study, samples of individuals in each of two different demographic areas were asked to state their brand preferences for a certain type of breakfast cereal. Of particular interest were two brands (A and B) made by a certain manufacturer. \n",
    "\n",
    "Variable\tDescription\n",
    "Area\t\tDemographic area (1 or 2)\n",
    "Brand\t\tPreferred brand (A, B or Other)\n",
    "\n",
    "Notice that both these variables are nominal.\n",
    "\n",
    "The data are as follows:\n",
    "\n",
    "Area\tBrand\n",
    "1\tB\n",
    "1\tOther\n",
    "1\tA\n",
    " \n",
    " \n",
    "\n",
    "2\tA\n",
    "2\tB\n",
    "2\tA\n",
    " \n",
    "```\n"
   ],
   "id": "8bc92e58e3d83015"
  },
  {
   "metadata": {},
   "cell_type": "markdown",
   "source": [
    "    ### Exercise 9.1\n",
    "\n",
    "<img src=\"data/ex9-1.png\" width=\"1500\" height=\"800\" />\n",
    "<br>\n",
    "<img src=\"data/ex9-1-chart.png\" width=\"1500\" height=\"800\" />\n",
    "<br>\n",
    "\n",
    "The Graph for the bar chart shows the precentage frequency bar chart comparing the Areas 1 and 2. Using this bar chart it can be said that for the sample that was taken in this area both the areas have similarity that other brands are more preffered than both Brand A and Brand B. However in Area 1 the Brand B is more popular than Brand A, and likewise Brand A is more popular in than Brand B in area 2."
   ],
   "id": "71f0d5c82694d1d5"
  },
  {
   "metadata": {},
   "cell_type": "markdown",
   "source": [
    "## Exercise 9.2  \n",
    "``` txt\n",
    "DATA SET E (Heather.xlsx)\n",
    "\n",
    "In a study on the prevalence of a certain species of heather, two different heathland locations A and B were studied. A number of transepts (pre-defined areas of land) were examined at each location, and classified according to the prevalence of the species of interest.\n",
    "\n",
    "Variable\t\tDescription\n",
    "Location\t\tHeathland Location (A or B)\n",
    "Prevalence\t\tPrevalence of the target species (Absent, Sparse or Abundant)\n",
    "\n",
    "```\n",
    "\n",
    "<img src=\"data/ex9-2.png\" width=\"1500\" height=\"800\" />\n",
    "<br>\n",
    "<img src=\"data/ex9-2-chart.png\" width=\"1500\" height=\"800\" />\n",
    "<br>\n",
    "\n",
    "The comparison percentage frequency bar chat"
   ],
   "id": "2c18737005cf35fe"
  }
 ],
 "metadata": {
  "kernelspec": {
   "display_name": "Python 3",
   "language": "python",
   "name": "python3"
  },
  "language_info": {
   "codemirror_mode": {
    "name": "ipython",
    "version": 2
   },
   "file_extension": ".py",
   "mimetype": "text/x-python",
   "name": "python",
   "nbconvert_exporter": "python",
   "pygments_lexer": "ipython2",
   "version": "2.7.6"
  }
 },
 "nbformat": 4,
 "nbformat_minor": 5
}
