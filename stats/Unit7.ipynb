{
 "cells": [
  {
   "metadata": {},
   "cell_type": "markdown",
   "source": [
    "# Unit 7 Workbook\n",
    "**DATA SET G (Filtration.xlsx)**\n",
    "\n",
    "The final process in the production of a chemical product involves filtration to remove impurities in the form of unwanted side products. The production manager wished to compare the effectiveness of two possible filter agents, Agent 1 and Agent 2. Each of 12 batches of the product were prepared, and half of each batch was filtered using Agent 1, and the other half using Agent 2. Following filtration, the amount of impurity (in parts per 1000 by weight) still present in the product was determined.\n",
    "```txt\n",
    "Variable\tDescription\n",
    "Batch\t\tBatch identification number (1 – 12)\n",
    "Agent1\t\tImpurities present after filtration with Agent 1 (parts per 1000)\n",
    "Agent2\t\tImpurities present after filtration with Agent 2 (parts per 1000)\n",
    "```"
   ],
   "id": "1a13f7b6b7b83afc"
  },
  {
   "metadata": {},
   "cell_type": "markdown",
   "source": "",
   "id": "efed0e39c1cd545b"
  },
  {
   "metadata": {
    "ExecuteTime": {
     "end_time": "2024-05-08T13:55:52.059256Z",
     "start_time": "2024-05-08T13:55:52.049523Z"
    }
   },
   "cell_type": "code",
   "source": [
    "import pandas as pd\n",
    "import pprint\n",
    "\n",
    "file_path = 'data/Exe8.4G.xlsx'  # Update this to the path of your Excel file\n",
    "sheet_name = 'Sheet1'  # Update this with the name of your sheet if needed\n",
    "df = pd.read_excel(file_path, sheet_name=sheet_name)\n",
    "# Specify the columns\n",
    "agent1_cl = 'Agent1'\n",
    "agent2_cl = 'Agent2'\n",
    "pp = pprint.PrettyPrinter(indent=4)\n",
    "pp.pprint(df[[agent1_cl, agent2_cl]])"
   ],
   "id": "94935132008aa463",
   "execution_count": 29,
   "outputs": []
  },
  {
   "metadata": {},
   "cell_type": "markdown",
   "source": "\n",
   "id": "94582698f25e5a0f"
  },
  {
   "metadata": {
    "ExecuteTime": {
     "end_time": "2024-05-08T13:55:52.064729Z",
     "start_time": "2024-05-08T13:55:52.062302Z"
    }
   },
   "cell_type": "code",
   "source": [
    "import scipy.stats as stats\n",
    "import numpy as np\n",
    "# Data from the image\n",
    "data = df[agent1_cl] - df[agent2_cl]\n",
    "# Doing a Shapiro-Wilk Test to see if the data is normally distributed\n",
    "# If the test value is closer to one then it is more likely a normally distributed (Khatun, N., 2021)\n",
    "shapiro_test = stats.shapiro(data)\n",
    "print('Shapiro test:', shapiro_test)\n",
    "print(f\"Shapiro-Wilk test: statistic={shapiro_test.statistic}, p-value={shapiro_test.pvalue}\")"
   ],
   "id": "48f5bf6d99a87c46",
   "execution_count": 30,
   "outputs": []
  },
  {
   "metadata": {
    "ExecuteTime": {
     "end_time": "2024-05-08T13:55:52.172665Z",
     "start_time": "2024-05-08T13:55:52.076862Z"
    }
   },
   "cell_type": "code",
   "source": [
    "import matplotlib.pyplot as plt\n",
    "import seaborn as sns\n",
    "# Creating the plot\n",
    "\n",
    "plt.figure(figsize=(10, 5))\n",
    "sns.boxplot(x=df[agent1_cl])\n",
    "plt.title('Box Plot Agent 1')\n",
    "plt.grid(True)\n",
    "plt.show()\n",
    "\n",
    "plt.figure(figsize=(10, 5))\n",
    "sns.boxplot(x=df[agent2_cl])\n",
    "plt.title('Box Plot Agent 2')\n",
    "plt.grid(True)\n",
    "plt.show()"
   ],
   "id": "9961856692684f3c",
   "execution_count": 31,
   "outputs": []
  },
  {
   "metadata": {},
   "cell_type": "markdown",
   "source": "",
   "id": "7dfa66b3e0213cab"
  },
  {
   "metadata": {},
   "cell_type": "markdown",
   "source": [
    "### Hypothesis Testing Ex 7.1\n",
    "\n",
    "#### Assumptions\n",
    "* Observations in each sample are normally distributed. (Since the shapiro test shows a value close to one this can be assumed)\n",
    "* $\\alpha$ = 0.01 or 1% as this is a general value for medical studies \n",
    "\n",
    "\n",
    "#### Defining Hypothesis\n",
    "Defining the null hypothesis as Agent 1 having better effect than Agent 2 , so in this case as the means represent the amounts of impurity remaining the better agent is the one with less impurity \n",
    "or the lesser mean. This leads to our null hypothesis being mean of Agent 2 is greater than Agent 1, suggesting that Agent 2 is worse and if the H$_{0}$ is not rejected.<br>\n",
    "H$_{0}$: $\\mu_{2} \\geq \\mu_{1} $ (Null Hypothesis)<br>\n",
    "H$_{1}$: $\\mu_{1} \\leq \\mu_{1} $ (Alternate Hypothesis)<br>\n"
   ],
   "id": "99ddd61f08083f03"
  },
  {
   "metadata": {
    "ExecuteTime": {
     "end_time": "2024-05-08T13:55:52.191784Z",
     "start_time": "2024-05-08T13:55:52.178894Z"
    }
   },
   "cell_type": "code",
   "source": [
    "# Result using Paired samples\n",
    "ttest,p_value = stats.ttest_rel(df[agent1_cl], df[agent2_cl])\n",
    "print(\"p value:%.8f\" % p_value)\n",
    "p_val_one_tailed = p_value / 2\n",
    "\n",
    "print(\"Since the hypothesis is one sided >> use p_value/2 >> p_value_one_sided:%.4f\" %(p_val_one_tailed))\n",
    "\n",
    "# Since this is a one-tailed test the p value has to be divided into half as \n",
    "if p_val_one_tailed <0.01:\n",
    "    print(\"Reject null hypothesis\")\n",
    "else:\n",
    "    print(\"Fail to reject null hypothesis\")"
   ],
   "id": "cc814b678ec6c5d5",
   "execution_count": 32,
   "outputs": []
  },
  {
   "metadata": {},
   "cell_type": "markdown",
   "source": [
    "<br>\n",
    "<img src=\"../data/ex7-1.png\" width=\"1200\" height=\"800\" />\n",
    "\n",
    "#### Conclusion\n",
    "The results are obtained with paired samples t = 2.71 with 11 degrees of freedom.\n",
    "Following the one tailed t test using paired samples, we get a p-value of 0.0038 which is less than our assumed alpha ($\\alpha$) of 1% meaning in this case we would reject the null hypothesis that Agent 1 is better Agent 2. So this could mean that \"Agent 2 could be better than Agent 1\". However, doing a paired sample test is not the optimal test as Agent 1 and Agent 2 are not paired but are independent of each other and would not be the best fitting test for this case.\n"
   ],
   "id": "42c1217f56d289d6"
  },
  {
   "metadata": {},
   "cell_type": "markdown",
   "source": [
    "### Hypothesis Testing Ex 7.2\n",
    "```txt\n",
    "This data set shows the incomes of 60 male and 60 female cardholders of a certain bank's \"Superplus Diamond\" card. \n",
    "\n",
    "Variable\tDescription\n",
    "Sex\t\tThe cardholder’s sex (F = female, M = male)\n",
    "Income\tThe cardholder’s gross annual income (in £’000’s)\n",
    "```\n",
    "\n",
    "#### Assumptions\n",
    "* Observations in each sample are independent and identically distributed (iid) as the sample individuals men and women do not depended on each other.\n",
    "* Observations in each sample are normally distributed. (Since the shapiro test shows a value close to one this can be assumed)\n",
    "* $\\alpha$ = 0.05 or 5% as this is a general value for behavioral studies \n",
    "\n",
    "\n",
    "#### Defining Hypothesis\n",
    "H$_{0}$: $\\mu_{m} = \\mu_{f} $ (Null Hypothesis)<br>\n",
    "H$_{1}$: $\\mu_{m} \\neq \\mu_{f} $ (Alternate Hypothesis)<br>"
   ],
   "id": "3ef6c8de7c6b9ad5"
  },
  {
   "metadata": {
    "ExecuteTime": {
     "end_time": "2024-05-08T13:55:52.203527Z",
     "start_time": "2024-05-08T13:55:52.193674Z"
    }
   },
   "cell_type": "code",
   "source": [
    "file_path = 'data/Exe8.6C.xlsx'  # Update this to the path of your Excel file\n",
    "sheet_name = 'Sheet1'  # Update this with the name of your sheet if needed\n",
    "df = pd.read_excel(file_path, sheet_name=sheet_name)\n",
    "# Specify the columns\n",
    "sex_cl = 'Sex'\n",
    "income_cl = 'Income'\n",
    "pp = pprint.PrettyPrinter(indent=4)\n",
    "pp.pprint(df[[sex_cl, income_cl]])"
   ],
   "id": "6933b751fe3f1a69",
   "execution_count": 33,
   "outputs": []
  },
  {
   "metadata": {
    "ExecuteTime": {
     "end_time": "2024-05-08T13:55:52.206739Z",
     "start_time": "2024-05-08T13:55:52.204581Z"
    }
   },
   "cell_type": "code",
   "source": [
    "# Filter the DataFrame where Diet has \"Sex is male\" and Income columns has male values\n",
    "filtered_df_male = df.loc[(df[sex_cl] == 'M'), income_cl ]\n",
    "filtered_df_female = df.loc[(df[sex_cl] == 'F'), income_cl ]\n",
    "\n",
    "\n"
   ],
   "id": "cfecd0f4926a82d7",
   "execution_count": 34,
   "outputs": []
  },
  {
   "metadata": {
    "ExecuteTime": {
     "end_time": "2024-05-08T13:55:52.287406Z",
     "start_time": "2024-05-08T13:55:52.207236Z"
    }
   },
   "cell_type": "code",
   "source": [
    "import matplotlib.pyplot as plt\n",
    "import seaborn as sns\n",
    "\n",
    "# Creating the plot\n",
    "\n",
    "plt.figure(figsize=(10, 5))\n",
    "sns.boxplot(x=filtered_df_male)\n",
    "plt.title('Box Plot Male')\n",
    "plt.grid(True)\n",
    "plt.show()\n",
    "\n",
    "plt.figure(figsize=(10, 5))\n",
    "sns.boxplot(x=filtered_df_female)\n",
    "plt.title('Box Plot Female')\n",
    "plt.grid(True)\n",
    "plt.show()"
   ],
   "id": "3c49afb7142d6c3f",
   "execution_count": 35,
   "outputs": []
  },
  {
   "metadata": {
    "ExecuteTime": {
     "end_time": "2024-05-08T13:55:52.292102Z",
     "start_time": "2024-05-08T13:55:52.289108Z"
    }
   },
   "cell_type": "code",
   "source": [
    "ttest,p_value = stats.ttest_ind(filtered_df_male,filtered_df_female)\n",
    "print(\"p value:%.8f\" % p_value)\n",
    "\n",
    "if p_value < 0.05:\n",
    "    print(\"Reject null hypothesis\")\n",
    "else:\n",
    "    print(\"Fail to reject null hypothesis\")"
   ],
   "id": "3f3746546c8d3d42",
   "execution_count": 36,
   "outputs": []
  },
  {
   "metadata": {},
   "cell_type": "markdown",
   "source": [
    "\n",
    "### Conclusion\n",
    "<img src=\"../data/ex7-2.png\" width=\"1200\" height=\"800\" />\n",
    "<br>\n",
    "\n",
    "A two-tailed independent t-test with unequal variance is appropriate here because looking at the box plot for the two data sets the spread for both data are different and suggests that the variance for the sample data is unequal. <br>\n",
    "\n",
    "As the p-value obtained that is 0.014 from the two-tailed independent t-test is less than the significance level or the $\\alpha$ value of 0.05 which leads to the rejection of the null hypothesis. This test suggests that there is a difference between the mean between male and female income. Also the mean of the two data set shows us different means where the mean of the income of males is 52.91 compared to the female which is 44.23, showing that the male earn more than the female counterpart."
   ],
   "id": "bac71777ab628552"
  },
  {
   "metadata": {},
   "cell_type": "markdown",
   "source": [
    "# References\n",
    "Khatun, N., 2021. Applications of normality test in statistical analysis. Open Journal of Statistics, 11(01), p.113."
   ],
   "id": "26166d1e510efbd7"
  }
 ],
 "metadata": {
  "kernelspec": {
   "display_name": "Python 3",
   "language": "python",
   "name": "python3"
  },
  "language_info": {
   "codemirror_mode": {
    "name": "ipython",
    "version": 2
   },
   "file_extension": ".py",
   "mimetype": "text/x-python",
   "name": "python",
   "nbconvert_exporter": "python",
   "pygments_lexer": "ipython2",
   "version": "2.7.6"
  }
 },
 "nbformat": 4,
 "nbformat_minor": 5
}
