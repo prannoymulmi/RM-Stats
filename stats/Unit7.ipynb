{
 "cells": [
  {
   "metadata": {},
   "cell_type": "markdown",
   "source": [
    "# Unit 7 Workbook\n",
    "**DATA SET G (Filtration.xlsx)**\n",
    "\n",
    "The final process in the production of a chemical product involves filtration to remove impurities in the form of unwanted side products. The production manager wished to compare the effectiveness of two possible filter agents, Agent 1 and Agent 2. Each of 12 batches of the product were prepared, and half of each batch was filtered using Agent 1, and the other half using Agent 2. Following filtration, the amount of impurity (in parts per 1000 by weight) still present in the product was determined.\n",
    "```txt\n",
    "Variable\tDescription\n",
    "Batch\t\tBatch identification number (1 – 12)\n",
    "Agent1\t\tImpurities present after filtration with Agent 1 (parts per 1000)\n",
    "Agent2\t\tImpurities present after filtration with Agent 2 (parts per 1000)\n",
    "```"
   ],
   "id": "1a13f7b6b7b83afc"
  },
  {
   "metadata": {},
   "cell_type": "markdown",
   "source": "",
   "id": "efed0e39c1cd545b"
  },
  {
   "metadata": {
    "ExecuteTime": {
     "end_time": "2024-05-26T07:29:38.007463Z",
     "start_time": "2024-05-26T07:29:37.998757Z"
    }
   },
   "cell_type": "code",
   "source": [
    "import pandas as pd\n",
    "import pprint\n",
    "\n",
    "file_path = '../data/Exe8.4G.xlsx'  # Update this to the path of your Excel file\n",
    "sheet_name = 'Sheet1'  # Update this with the name of your sheet if needed\n",
    "df = pd.read_excel(file_path, sheet_name=sheet_name)\n",
    "# Specify the columns\n",
    "agent1_cl = 'Agent1'\n",
    "agent2_cl = 'Agent2'\n",
    "pp = pprint.PrettyPrinter(indent=4)\n",
    "pp.pprint(df[[agent1_cl, agent2_cl]])"
   ],
   "id": "94935132008aa463",
   "outputs": [
    {
     "name": "stdout",
     "output_type": "stream",
     "text": [
      "    Agent1  Agent2\n",
      "0      7.7     8.5\n",
      "1      9.2     9.6\n",
      "2      6.8     6.4\n",
      "3      9.5     9.8\n",
      "4      8.7     9.3\n",
      "5      6.9     7.6\n",
      "6      7.5     8.2\n",
      "7      7.1     7.7\n",
      "8      8.7     9.4\n",
      "9      9.4     8.9\n",
      "10     9.4     9.7\n",
      "11     8.1     9.1\n"
     ]
    }
   ],
   "execution_count": 7
  },
  {
   "metadata": {},
   "cell_type": "markdown",
   "source": "\n",
   "id": "94582698f25e5a0f"
  },
  {
   "metadata": {
    "ExecuteTime": {
     "end_time": "2024-05-26T07:29:38.018488Z",
     "start_time": "2024-05-26T07:29:38.015718Z"
    }
   },
   "cell_type": "code",
   "source": [
    "import scipy.stats as stats\n",
    "import numpy as np\n",
    "# Data from the image\n",
    "data = df[agent1_cl] - df[agent2_cl]\n",
    "# Doing a Shapiro-Wilk Test to see if the data is normally distributed\n",
    "# If the test value is closer to one then it is more likely a normally distributed (Khatun, N., 2021)\n",
    "shapiro_test = stats.shapiro(data)\n",
    "print('Shapiro test:', shapiro_test)\n",
    "print(f\"Shapiro-Wilk test: statistic={shapiro_test.statistic}, p-value={shapiro_test.pvalue}\")"
   ],
   "id": "48f5bf6d99a87c46",
   "outputs": [
    {
     "name": "stdout",
     "output_type": "stream",
     "text": [
      "Shapiro test: ShapiroResult(statistic=0.8488310715153763, pvalue=0.035513906482025834)\n",
      "Shapiro-Wilk test: statistic=0.8488310715153763, p-value=0.035513906482025834\n"
     ]
    }
   ],
   "execution_count": 8
  },
  {
   "metadata": {
    "ExecuteTime": {
     "end_time": "2024-05-26T07:29:38.162248Z",
     "start_time": "2024-05-26T07:29:38.030819Z"
    }
   },
   "cell_type": "code",
   "source": [
    "import matplotlib.pyplot as plt\n",
    "import seaborn as sns\n",
    "# Creating the plot\n",
    "\n",
    "plt.figure(figsize=(10, 5))\n",
    "sns.boxplot(x=df[agent1_cl])\n",
    "plt.title('Box Plot Agent 1')\n",
    "plt.grid(True)\n",
    "plt.show()\n",
    "\n",
    "plt.figure(figsize=(10, 5))\n",
    "sns.boxplot(x=df[agent2_cl])\n",
    "plt.title('Box Plot Agent 2')\n",
    "plt.grid(True)\n",
    "plt.show()"
   ],
   "id": "9961856692684f3c",
   "outputs": [
    {
     "data": {
      "text/plain": [
       "<Figure size 1000x500 with 1 Axes>"
      ],
      "image/png": "[encoded data removed]"
     },
     "metadata": {},
     "output_type": "display_data"
    },
    {
     "data": {
      "text/plain": [
       "<Figure size 1000x500 with 1 Axes>"
      ],
      "image/png": "[encoded data removed]"
     },
     "metadata": {},
     "output_type": "display_data"
    }
   ],
   "execution_count": 9
  },
  {
   "metadata": {},
   "cell_type": "markdown",
   "source": "",
   "id": "7dfa66b3e0213cab"
  },
  {
   "metadata": {},
   "cell_type": "markdown",
   "source": [
    "### Hypothesis Testing Ex 7.1\n",
    "\n",
    "#### Assumptions\n",
    "* Observations in each sample are normally distributed. (Since the shapiro test shows a value close to one this can be assumed)\n",
    "* $\\alpha$ = 0.01 or 1% as this is a general value for medical studies \n",
    "\n",
    "\n",
    "#### Defining Hypothesis\n",
    "Defining the null hypothesis as Agent 1 having better effect than Agent 2 , so in this case as the means represent the amounts of impurity remaining the better agent is the one with less impurity \n",
    "or the lesser mean. This leads to our null hypothesis being mean of Agent 2 is greater than Agent 1, suggesting that Agent 2 is worse and if the H$_{0}$ is not rejected.<br>\n",
    "H$_{0}$: $\\mu_{2} \\geq \\mu_{1} $ (Null Hypothesis)<br>\n",
    "H$_{1}$: $\\mu_{1} \\leq \\mu_{1} $ (Alternate Hypothesis)<br>\n"
   ],
   "id": "99ddd61f08083f03"
  },
  {
   "metadata": {
    "ExecuteTime": {
     "end_time": "2024-05-26T07:29:38.166966Z",
     "start_time": "2024-05-26T07:29:38.163370Z"
    }
   },
   "cell_type": "code",
   "source": [
    "# Result using Paired samples\n",
    "ttest,p_value = stats.ttest_rel(df[agent1_cl], df[agent2_cl])\n",
    "print(\"p value:%.8f\" % p_value)\n",
    "p_val_one_tailed = p_value / 2\n",
    "\n",
    "print(\"Since the hypothesis is one sided >> use p_value/2 >> p_value_one_sided:%.4f\" %(p_val_one_tailed))\n",
    "\n",
    "# Since this is a one-tailed test the p value has to be divided into half as \n",
    "if p_val_one_tailed <0.01:\n",
    "    print(\"Reject null hypothesis\")\n",
    "else:\n",
    "    print(\"Fail to reject null hypothesis\")"
   ],
   "id": "cc814b678ec6c5d5",
   "outputs": [
    {
     "name": "stdout",
     "output_type": "stream",
     "text": [
      "p value:0.00754599\n",
      "Since the hypothesis is one sided >> use p_value/2 >> p_value_one_sided:0.0038\n",
      "Reject null hypothesis\n"
     ]
    }
   ],
   "execution_count": 10
  },
  {
   "metadata": {},
   "cell_type": "markdown",
   "source": [
    "<br>\n",
    "<img src=\"../data/ex7-1.png\" width=\"1200\" height=\"800\" />\n",
    "\n",
    "#### Conclusion\n",
    "The results are obtained with paired samples t = 2.71 with 11 degrees of freedom.\n",
    "Following the one tailed t test using paired samples, we get a p-value of 0.0038 which is less than our assumed alpha ($\\alpha$) of 1% meaning in this case we would reject the null hypothesis that Agent 1 is better Agent 2. So this could mean that \"Agent 2 could be better than Agent 1\". However, doing a paired sample test is not the optimal test as Agent 1 and Agent 2 are not paired but are independent of each other and would not be the best fitting test for this case.\n"
   ],
   "id": "42c1217f56d289d6"
  },
  {
   "metadata": {},
   "cell_type": "markdown",
   "source": [
    "### Hypothesis Testing Ex 7.2\n",
    "```txt\n",
    "This data set shows the incomes of 60 male and 60 female cardholders of a certain bank's \"Superplus Diamond\" card. \n",
    "\n",
    "Variable\tDescription\n",
    "Sex\t\tThe cardholder’s sex (F = female, M = male)\n",
    "Income\tThe cardholder’s gross annual income (in £’000’s)\n",
    "```\n",
    "\n",
    "#### Assumptions\n",
    "* Observations in each sample are independent and identically distributed (iid) as the sample individuals men and women do not depended on each other.\n",
    "* Observations in each sample are normally distributed. (Since the shapiro test shows a value close to one this can be assumed)\n",
    "* $\\alpha$ = 0.05 or 5% as this is a general value for behavioral studies \n",
    "\n",
    "\n",
    "#### Defining Hypothesis\n",
    "H$_{0}$: $\\mu_{m} = \\mu_{f} $ (Null Hypothesis)<br>\n",
    "H$_{1}$: $\\mu_{m} \\neq \\mu_{f} $ (Alternate Hypothesis)<br>"
   ],
   "id": "3ef6c8de7c6b9ad5"
  },
  {
   "metadata": {
    "ExecuteTime": {
     "end_time": "2024-05-26T07:29:38.183210Z",
     "start_time": "2024-05-26T07:29:38.167872Z"
    }
   },
   "cell_type": "code",
   "source": [
    "file_path = '../data/Exe8.6C.xlsx'  # Update this to the path of your Excel file\n",
    "sheet_name = 'Sheet1'  # Update this with the name of your sheet if needed\n",
    "df = pd.read_excel(file_path, sheet_name=sheet_name)\n",
    "# Specify the columns\n",
    "sex_cl = 'Sex'\n",
    "income_cl = 'Income'\n",
    "pp = pprint.PrettyPrinter(indent=4)\n",
    "pp.pprint(df[[sex_cl, income_cl]])"
   ],
   "id": "6933b751fe3f1a69",
   "outputs": [
    {
     "name": "stdout",
     "output_type": "stream",
     "text": [
      "    Sex  Income\n",
      "0     M    40.6\n",
      "1     M    54.6\n",
      "2     M    38.6\n",
      "3     M    58.2\n",
      "4     M    34.6\n",
      "..   ..     ...\n",
      "115   F    77.2\n",
      "116   F    32.6\n",
      "117   F    82.9\n",
      "118   F    42.3\n",
      "119   F    57.8\n",
      "\n",
      "[120 rows x 2 columns]\n"
     ]
    }
   ],
   "execution_count": 11
  },
  {
   "metadata": {
    "ExecuteTime": {
     "end_time": "2024-05-26T07:29:38.190661Z",
     "start_time": "2024-05-26T07:29:38.187720Z"
    }
   },
   "cell_type": "code",
   "source": [
    "# Filter the DataFrame where Diet has \"Sex is male\" and Income columns has male values\n",
    "filtered_df_male = df.loc[(df[sex_cl] == 'M'), income_cl ]\n",
    "filtered_df_female = df.loc[(df[sex_cl] == 'F'), income_cl ]\n",
    "\n",
    "\n"
   ],
   "id": "cfecd0f4926a82d7",
   "outputs": [],
   "execution_count": 12
  },
  {
   "metadata": {
    "ExecuteTime": {
     "end_time": "2024-05-26T07:29:38.329170Z",
     "start_time": "2024-05-26T07:29:38.191444Z"
    }
   },
   "cell_type": "code",
   "source": [
    "import matplotlib.pyplot as plt\n",
    "import seaborn as sns\n",
    "\n",
    "# Creating the plot\n",
    "\n",
    "plt.figure(figsize=(10, 5))\n",
    "sns.boxplot(x=filtered_df_male)\n",
    "plt.title('Box Plot Male')\n",
    "plt.grid(True)\n",
    "plt.show()\n",
    "\n",
    "plt.figure(figsize=(10, 5))\n",
    "sns.boxplot(x=filtered_df_female)\n",
    "plt.title('Box Plot Female')\n",
    "plt.grid(True)\n",
    "plt.show()"
   ],
   "id": "3c49afb7142d6c3f",
   "outputs": [
    {
     "data": {
      "text/plain": [
       "<Figure size 1000x500 with 1 Axes>"
      ],
      "image/png": "[encoded data removed]"
     },
     "metadata": {},
     "output_type": "display_data"
    },
    {
     "data": {
      "text/plain": [
       "<Figure size 1000x500 with 1 Axes>"
      ],
      "image/png": "[encoded data removed]"
     },
     "metadata": {},
     "output_type": "display_data"
    }
   ],
   "execution_count": 13
  },
  {
   "metadata": {
    "ExecuteTime": {
     "end_time": "2024-05-26T07:29:38.336557Z",
     "start_time": "2024-05-26T07:29:38.331097Z"
    }
   },
   "cell_type": "code",
   "source": [
    "ttest,p_value = stats.ttest_ind(filtered_df_male,filtered_df_female)\n",
    "print(\"p value:%.8f\" % p_value)\n",
    "\n",
    "if p_value < 0.05:\n",
    "    print(\"Reject null hypothesis\")\n",
    "else:\n",
    "    print(\"Fail to reject null hypothesis\")"
   ],
   "id": "3f3746546c8d3d42",
   "outputs": [
    {
     "name": "stdout",
     "output_type": "stream",
     "text": [
      "p value:0.00141947\n",
      "Reject null hypothesis\n"
     ]
    }
   ],
   "execution_count": 14
  },
  {
   "metadata": {},
   "cell_type": "markdown",
   "source": [
    "\n",
    "### Conclusion\n",
    "<img src=\"../data/ex7-2.png\" width=\"1200\" height=\"800\" />\n",
    "<br>\n",
    "\n",
    "A two-tailed independent t-test with unequal variance is appropriate here because looking at the box plot for the two data sets the spread for both data are different and suggests that the variance for the sample data is unequal. <br>\n",
    "\n",
    "As the p-value obtained that is 0.014 from the two-tailed independent t-test is less than the significance level or the $\\alpha$ value of 0.05 which leads to the rejection of the null hypothesis. This test suggests that there is a difference between the mean between male and female income. Also the mean of the two data set shows us different means where the mean of the income of males is 52.91 compared to the female which is 44.23, showing that the male earn more than the female counterpart."
   ],
   "id": "bac71777ab628552"
  },
  {
   "metadata": {},
   "cell_type": "markdown",
   "source": [
    "# References\n",
    "Khatun, N., 2021. Applications of normality test in statistical analysis. Open Journal of Statistics, 11(01), p.113."
   ],
   "id": "26166d1e510efbd7"
  }
 ],
 "metadata": {
  "kernelspec": {
   "display_name": "Python 3",
   "language": "python",
   "name": "python3"
  },
  "language_info": {
   "codemirror_mode": {
    "name": "ipython",
    "version": 2
   },
   "file_extension": ".py",
   "mimetype": "text/x-python",
   "name": "python",
   "nbconvert_exporter": "python",
   "pygments_lexer": "ipython2",
   "version": "2.7.6"
  }
 },
 "nbformat": 4,
 "nbformat_minor": 5
}
