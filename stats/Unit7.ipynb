{
 "cells": [
  {
   "metadata": {},
   "cell_type": "markdown",
   "source": [
    "# Unit 7 Workbook\n",
    "**DATA SET G (Filtration.xlsx)**\n",
    "\n",
    "The final process in the production of a chemical product involves filtration to remove impurities in the form of unwanted side products. The production manager wished to compare the effectiveness of two possible filter agents, Agent 1 and Agent 2. Each of 12 batches of the product were prepared, and half of each batch was filtered using Agent 1, and the other half using Agent 2. Following filtration, the amount of impurity (in parts per 1000 by weight) still present in the product was determined.\n",
    "```txt\n",
    "Variable\tDescription\n",
    "Batch\t\tBatch identification number (1 – 12)\n",
    "Agent1\t\tImpurities present after filtration with Agent 1 (parts per 1000)\n",
    "Agent2\t\tImpurities present after filtration with Agent 2 (parts per 1000)\n",
    "```"
   ],
   "id": "1a13f7b6b7b83afc"
  },
  {
   "metadata": {},
   "cell_type": "markdown",
   "source": "",
   "id": "efed0e39c1cd545b"
  },
  {
   "metadata": {
    "ExecuteTime": {
     "end_time": "2024-05-26T07:26:18.950423Z",
     "start_time": "2024-05-26T07:26:18.849889Z"
    }
   },
   "cell_type": "code",
   "source": [
    "import pandas as pd\n",
    "import pprint\n",
    "\n",
    "file_path = '../data/Exe8.4G.xlsx'  # Update this to the path of your Excel file\n",
    "sheet_name = 'Sheet1'  # Update this with the name of your sheet if needed\n",
    "df = pd.read_excel(file_path, sheet_name=sheet_name)\n",
    "# Specify the columns\n",
    "agent1_cl = 'Agent1'\n",
    "agent2_cl = 'Agent2'\n",
    "pp = pprint.PrettyPrinter(indent=4)\n",
    "pp.pprint(df[[agent1_cl, agent2_cl]])"
   ],
   "id": "94935132008aa463",
   "outputs": [
    {
     "name": "stdout",
     "output_type": "stream",
     "text": [
      "    Agent1  Agent2\n",
      "0      7.7     8.5\n",
      "1      9.2     9.6\n",
      "2      6.8     6.4\n",
      "3      9.5     9.8\n",
      "4      8.7     9.3\n",
      "5      6.9     7.6\n",
      "6      7.5     8.2\n",
      "7      7.1     7.7\n",
      "8      8.7     9.4\n",
      "9      9.4     8.9\n",
      "10     9.4     9.7\n",
      "11     8.1     9.1\n"
     ]
    }
   ],
   "execution_count": 2
  },
  {
   "metadata": {},
   "cell_type": "markdown",
   "source": "\n",
   "id": "94582698f25e5a0f"
  },
  {
   "metadata": {
    "ExecuteTime": {
     "end_time": "2024-05-26T07:26:18.957972Z",
     "start_time": "2024-05-26T07:26:18.954334Z"
    }
   },
   "cell_type": "code",
   "source": [
    "import scipy.stats as stats\n",
    "import numpy as np\n",
    "# Data from the image\n",
    "data = df[agent1_cl] - df[agent2_cl]\n",
    "# Doing a Shapiro-Wilk Test to see if the data is normally distributed\n",
    "# If the test value is closer to one then it is more likely a normally distributed (Khatun, N., 2021)\n",
    "shapiro_test = stats.shapiro(data)\n",
    "print('Shapiro test:', shapiro_test)\n",
    "print(f\"Shapiro-Wilk test: statistic={shapiro_test.statistic}, p-value={shapiro_test.pvalue}\")"
   ],
   "id": "48f5bf6d99a87c46",
   "outputs": [
    {
     "name": "stdout",
     "output_type": "stream",
     "text": [
      "Shapiro test: ShapiroResult(statistic=0.8488310715153763, pvalue=0.035513906482025834)\n",
      "Shapiro-Wilk test: statistic=0.8488310715153763, p-value=0.035513906482025834\n"
     ]
    }
   ],
   "execution_count": 3
  },
  {
   "metadata": {
    "ExecuteTime": {
     "end_time": "2024-05-26T07:26:19.100973Z",
     "start_time": "2024-05-26T07:26:18.958665Z"
    }
   },
   "cell_type": "code",
   "source": [
    "import matplotlib.pyplot as plt\n",
    "import seaborn as sns\n",
    "# Creating the plot\n",
    "\n",
    "plt.figure(figsize=(10, 5))\n",
    "sns.boxplot(x=df[agent1_cl])\n",
    "plt.title('Box Plot Agent 1')\n",
    "plt.grid(True)\n",
    "plt.show()\n",
    "\n",
    "plt.figure(figsize=(10, 5))\n",
    "sns.boxplot(x=df[agent2_cl])\n",
    "plt.title('Box Plot Agent 2')\n",
    "plt.grid(True)\n",
    "plt.show()"
   ],
   "id": "9961856692684f3c",
   "outputs": [
    {
     "data": {
      "text/plain": [
       "<Figure size 1000x500 with 1 Axes>"
      ],
      "image/png": "[encoded data removed]"
     },
     "metadata": {},
     "output_type": "display_data"
    },
    {
     "data": {
      "text/plain": [
       "<Figure size 1000x500 with 1 Axes>"
      ],
      "image/png": "[encoded data removed]"
     },
     "metadata": {},
     "output_type": "display_data"
    }
   ],
   "execution_count": 4
  },
  {
   "metadata": {},
   "cell_type": "markdown",
   "source": "",
   "id": "7dfa66b3e0213cab"
  },
  {
   "metadata": {},
   "cell_type": "markdown",
   "source": [
    "### Hypothesis Testing Ex 7.1\n",
    "\n",
    "#### Assumptions\n",
    "* Observations in each sample are normally distributed. (Since the shapiro test shows a value close to one this can be assumed)\n",
    "* $\\alpha$ = 0.01 or 1% as this is a general value for medical studies \n",
    "\n",
    "\n",
    "#### Defining Hypothesis\n",
    "Defining the null hypothesis as Agent 1 having better effect than Agent 2 , so in this case as the means represent the amounts of impurity remaining the better agent is the one with less impurity \n",
    "or the lesser mean. This leads to our null hypothesis being mean of Agent 2 is greater than Agent 1, suggesting that Agent 2 is worse and if the H$_{0}$ is not rejected.<br>\n",
    "H$_{0}$: $\\mu_{2} \\geq \\mu_{1} $ (Null Hypothesis)<br>\n",
    "H$_{1}$: $\\mu_{1} \\leq \\mu_{1} $ (Alternate Hypothesis)<br>\n"
   ],
   "id": "99ddd61f08083f03"
  },
  {
   "metadata": {
    "ExecuteTime": {
     "end_time": "2024-05-26T07:26:19.106614Z",
     "start_time": "2024-05-26T07:26:19.102414Z"
    }
   },
   "cell_type": "code",
   "source": [
    "# Result using Paired samples\n",
    "ttest,p_value = stats.ttest_rel(df[agent1_cl], df[agent2_cl])\n",
    "print(\"p value:%.8f\" % p_value)\n",
    "p_val_one_tailed = p_value / 2\n",
    "\n",
    "print(\"Since the hypothesis is one sided >> use p_value/2 >> p_value_one_sided:%.4f\" %(p_val_one_tailed))\n",
    "\n",
    "# Since this is a one-tailed test the p value has to be divided into half as \n",
    "if p_val_one_tailed <0.01:\n",
    "    print(\"Reject null hypothesis\")\n",
    "else:\n",
    "    print(\"Fail to reject null hypothesis\")"
   ],
   "id": "cc814b678ec6c5d5",
   "outputs": [
    {
     "name": "stdout",
     "output_type": "stream",
     "text": [
      "p value:0.00754599\n",
      "Since the hypothesis is one sided >> use p_value/2 >> p_value_one_sided:0.0038\n",
      "Reject null hypothesis\n"
     ]
    }
   ],
   "execution_count": 5
  },
  {
   "metadata": {},
   "cell_type": "markdown",
   "source": [
    "<br>\n",
    "<img src=\"../data/ex7-1.png\" width=\"1200\" height=\"800\" />\n",
    "\n",
    "#### Conclusion\n",
    "The results are obtained with paired samples t = 2.71 with 11 degrees of freedom.\n",
    "Following the one tailed t test using paired samples, we get a p-value of 0.0038 which is less than our assumed alpha ($\\alpha$) of 1% meaning in this case we would reject the null hypothesis that Agent 1 is better Agent 2. So this could mean that \"Agent 2 could be better than Agent 1\". However, doing a paired sample test is not the optimal test as Agent 1 and Agent 2 are not paired but are independent of each other and would not be the best fitting test for this case.\n"
   ],
   "id": "42c1217f56d289d6"
  },
  {
   "metadata": {},
   "cell_type": "markdown",
   "source": [
    "### Hypothesis Testing Ex 7.2\n",
    "```txt\n",
    "This data set shows the incomes of 60 male and 60 female cardholders of a certain bank's \"Superplus Diamond\" card. \n",
    "\n",
    "Variable\tDescription\n",
    "Sex\t\tThe cardholder’s sex (F = female, M = male)\n",
    "Income\tThe cardholder’s gross annual income (in £’000’s)\n",
    "```\n",
    "\n",
    "#### Assumptions\n",
    "* Observations in each sample are independent and identically distributed (iid) as the sample individuals men and women do not depended on each other.\n",
    "* Observations in each sample are normally distributed. (Since the shapiro test shows a value close to one this can be assumed)\n",
    "* $\\alpha$ = 0.05 or 5% as this is a general value for behavioral studies \n",
    "\n",
    "\n",
    "#### Defining Hypothesis\n",
    "H$_{0}$: $\\mu_{m} = \\mu_{f} $ (Null Hypothesis)<br>\n",
    "H$_{1}$: $\\mu_{m} \\neq \\mu_{f} $ (Alternate Hypothesis)<br>"
   ],
   "id": "3ef6c8de7c6b9ad5"
  },
  {
   "metadata": {
    "ExecuteTime": {
     "end_time": "2024-05-26T07:26:19.148042Z",
     "start_time": "2024-05-26T07:26:19.107392Z"
    }
   },
   "cell_type": "code",
   "source": [
    "file_path = 'data/Exe8.6C.xlsx'  # Update this to the path of your Excel file\n",
    "sheet_name = 'Sheet1'  # Update this with the name of your sheet if needed\n",
    "df = pd.read_excel(file_path, sheet_name=sheet_name)\n",
    "# Specify the columns\n",
    "sex_cl = 'Sex'\n",
    "income_cl = 'Income'\n",
    "pp = pprint.PrettyPrinter(indent=4)\n",
    "pp.pprint(df[[sex_cl, income_cl]])"
   ],
   "id": "6933b751fe3f1a69",
   "outputs": [
    {
     "ename": "FileNotFoundError",
     "evalue": "[Errno 2] No such file or directory: 'data/Exe8.6C.xlsx'",
     "output_type": "error",
     "traceback": [
      "\u001B[0;31m---------------------------------------------------------------------------\u001B[0m",
      "\u001B[0;31mFileNotFoundError\u001B[0m                         Traceback (most recent call last)",
      "Cell \u001B[0;32mIn[6], line 3\u001B[0m\n\u001B[1;32m      1\u001B[0m file_path \u001B[38;5;241m=\u001B[39m \u001B[38;5;124m'\u001B[39m\u001B[38;5;124mdata/Exe8.6C.xlsx\u001B[39m\u001B[38;5;124m'\u001B[39m  \u001B[38;5;66;03m# Update this to the path of your Excel file\u001B[39;00m\n\u001B[1;32m      2\u001B[0m sheet_name \u001B[38;5;241m=\u001B[39m \u001B[38;5;124m'\u001B[39m\u001B[38;5;124mSheet1\u001B[39m\u001B[38;5;124m'\u001B[39m  \u001B[38;5;66;03m# Update this with the name of your sheet if needed\u001B[39;00m\n\u001B[0;32m----> 3\u001B[0m df \u001B[38;5;241m=\u001B[39m pd\u001B[38;5;241m.\u001B[39mread_excel(file_path, sheet_name\u001B[38;5;241m=\u001B[39msheet_name)\n\u001B[1;32m      4\u001B[0m \u001B[38;5;66;03m# Specify the columns\u001B[39;00m\n\u001B[1;32m      5\u001B[0m sex_cl \u001B[38;5;241m=\u001B[39m \u001B[38;5;124m'\u001B[39m\u001B[38;5;124mSex\u001B[39m\u001B[38;5;124m'\u001B[39m\n",
      "File \u001B[0;32m~/miniconda3/lib/python3.12/site-packages/pandas/io/excel/_base.py:495\u001B[0m, in \u001B[0;36mread_excel\u001B[0;34m(io, sheet_name, header, names, index_col, usecols, dtype, engine, converters, true_values, false_values, skiprows, nrows, na_values, keep_default_na, na_filter, verbose, parse_dates, date_parser, date_format, thousands, decimal, comment, skipfooter, storage_options, dtype_backend, engine_kwargs)\u001B[0m\n\u001B[1;32m    493\u001B[0m \u001B[38;5;28;01mif\u001B[39;00m \u001B[38;5;129;01mnot\u001B[39;00m \u001B[38;5;28misinstance\u001B[39m(io, ExcelFile):\n\u001B[1;32m    494\u001B[0m     should_close \u001B[38;5;241m=\u001B[39m \u001B[38;5;28;01mTrue\u001B[39;00m\n\u001B[0;32m--> 495\u001B[0m     io \u001B[38;5;241m=\u001B[39m ExcelFile(\n\u001B[1;32m    496\u001B[0m         io,\n\u001B[1;32m    497\u001B[0m         storage_options\u001B[38;5;241m=\u001B[39mstorage_options,\n\u001B[1;32m    498\u001B[0m         engine\u001B[38;5;241m=\u001B[39mengine,\n\u001B[1;32m    499\u001B[0m         engine_kwargs\u001B[38;5;241m=\u001B[39mengine_kwargs,\n\u001B[1;32m    500\u001B[0m     )\n\u001B[1;32m    501\u001B[0m \u001B[38;5;28;01melif\u001B[39;00m engine \u001B[38;5;129;01mand\u001B[39;00m engine \u001B[38;5;241m!=\u001B[39m io\u001B[38;5;241m.\u001B[39mengine:\n\u001B[1;32m    502\u001B[0m     \u001B[38;5;28;01mraise\u001B[39;00m \u001B[38;5;167;01mValueError\u001B[39;00m(\n\u001B[1;32m    503\u001B[0m         \u001B[38;5;124m\"\u001B[39m\u001B[38;5;124mEngine should not be specified when passing \u001B[39m\u001B[38;5;124m\"\u001B[39m\n\u001B[1;32m    504\u001B[0m         \u001B[38;5;124m\"\u001B[39m\u001B[38;5;124man ExcelFile - ExcelFile already has the engine set\u001B[39m\u001B[38;5;124m\"\u001B[39m\n\u001B[1;32m    505\u001B[0m     )\n",
      "File \u001B[0;32m~/miniconda3/lib/python3.12/site-packages/pandas/io/excel/_base.py:1550\u001B[0m, in \u001B[0;36mExcelFile.__init__\u001B[0;34m(self, path_or_buffer, engine, storage_options, engine_kwargs)\u001B[0m\n\u001B[1;32m   1548\u001B[0m     ext \u001B[38;5;241m=\u001B[39m \u001B[38;5;124m\"\u001B[39m\u001B[38;5;124mxls\u001B[39m\u001B[38;5;124m\"\u001B[39m\n\u001B[1;32m   1549\u001B[0m \u001B[38;5;28;01melse\u001B[39;00m:\n\u001B[0;32m-> 1550\u001B[0m     ext \u001B[38;5;241m=\u001B[39m inspect_excel_format(\n\u001B[1;32m   1551\u001B[0m         content_or_path\u001B[38;5;241m=\u001B[39mpath_or_buffer, storage_options\u001B[38;5;241m=\u001B[39mstorage_options\n\u001B[1;32m   1552\u001B[0m     )\n\u001B[1;32m   1553\u001B[0m     \u001B[38;5;28;01mif\u001B[39;00m ext \u001B[38;5;129;01mis\u001B[39;00m \u001B[38;5;28;01mNone\u001B[39;00m:\n\u001B[1;32m   1554\u001B[0m         \u001B[38;5;28;01mraise\u001B[39;00m \u001B[38;5;167;01mValueError\u001B[39;00m(\n\u001B[1;32m   1555\u001B[0m             \u001B[38;5;124m\"\u001B[39m\u001B[38;5;124mExcel file format cannot be determined, you must specify \u001B[39m\u001B[38;5;124m\"\u001B[39m\n\u001B[1;32m   1556\u001B[0m             \u001B[38;5;124m\"\u001B[39m\u001B[38;5;124man engine manually.\u001B[39m\u001B[38;5;124m\"\u001B[39m\n\u001B[1;32m   1557\u001B[0m         )\n",
      "File \u001B[0;32m~/miniconda3/lib/python3.12/site-packages/pandas/io/excel/_base.py:1402\u001B[0m, in \u001B[0;36minspect_excel_format\u001B[0;34m(content_or_path, storage_options)\u001B[0m\n\u001B[1;32m   1399\u001B[0m \u001B[38;5;28;01mif\u001B[39;00m \u001B[38;5;28misinstance\u001B[39m(content_or_path, \u001B[38;5;28mbytes\u001B[39m):\n\u001B[1;32m   1400\u001B[0m     content_or_path \u001B[38;5;241m=\u001B[39m BytesIO(content_or_path)\n\u001B[0;32m-> 1402\u001B[0m \u001B[38;5;28;01mwith\u001B[39;00m get_handle(\n\u001B[1;32m   1403\u001B[0m     content_or_path, \u001B[38;5;124m\"\u001B[39m\u001B[38;5;124mrb\u001B[39m\u001B[38;5;124m\"\u001B[39m, storage_options\u001B[38;5;241m=\u001B[39mstorage_options, is_text\u001B[38;5;241m=\u001B[39m\u001B[38;5;28;01mFalse\u001B[39;00m\n\u001B[1;32m   1404\u001B[0m ) \u001B[38;5;28;01mas\u001B[39;00m handle:\n\u001B[1;32m   1405\u001B[0m     stream \u001B[38;5;241m=\u001B[39m handle\u001B[38;5;241m.\u001B[39mhandle\n\u001B[1;32m   1406\u001B[0m     stream\u001B[38;5;241m.\u001B[39mseek(\u001B[38;5;241m0\u001B[39m)\n",
      "File \u001B[0;32m~/miniconda3/lib/python3.12/site-packages/pandas/io/common.py:882\u001B[0m, in \u001B[0;36mget_handle\u001B[0;34m(path_or_buf, mode, encoding, compression, memory_map, is_text, errors, storage_options)\u001B[0m\n\u001B[1;32m    873\u001B[0m         handle \u001B[38;5;241m=\u001B[39m \u001B[38;5;28mopen\u001B[39m(\n\u001B[1;32m    874\u001B[0m             handle,\n\u001B[1;32m    875\u001B[0m             ioargs\u001B[38;5;241m.\u001B[39mmode,\n\u001B[0;32m   (...)\u001B[0m\n\u001B[1;32m    878\u001B[0m             newline\u001B[38;5;241m=\u001B[39m\u001B[38;5;124m\"\u001B[39m\u001B[38;5;124m\"\u001B[39m,\n\u001B[1;32m    879\u001B[0m         )\n\u001B[1;32m    880\u001B[0m     \u001B[38;5;28;01melse\u001B[39;00m:\n\u001B[1;32m    881\u001B[0m         \u001B[38;5;66;03m# Binary mode\u001B[39;00m\n\u001B[0;32m--> 882\u001B[0m         handle \u001B[38;5;241m=\u001B[39m \u001B[38;5;28mopen\u001B[39m(handle, ioargs\u001B[38;5;241m.\u001B[39mmode)\n\u001B[1;32m    883\u001B[0m     handles\u001B[38;5;241m.\u001B[39mappend(handle)\n\u001B[1;32m    885\u001B[0m \u001B[38;5;66;03m# Convert BytesIO or file objects passed with an encoding\u001B[39;00m\n",
      "\u001B[0;31mFileNotFoundError\u001B[0m: [Errno 2] No such file or directory: 'data/Exe8.6C.xlsx'"
     ]
    }
   ],
   "execution_count": 6
  },
  {
   "metadata": {},
   "cell_type": "code",
   "source": [
    "# Filter the DataFrame where Diet has \"Sex is male\" and Income columns has male values\n",
    "filtered_df_male = df.loc[(df[sex_cl] == 'M'), income_cl ]\n",
    "filtered_df_female = df.loc[(df[sex_cl] == 'F'), income_cl ]\n",
    "\n",
    "\n"
   ],
   "id": "cfecd0f4926a82d7",
   "outputs": [],
   "execution_count": null
  },
  {
   "metadata": {},
   "cell_type": "code",
   "source": [
    "import matplotlib.pyplot as plt\n",
    "import seaborn as sns\n",
    "\n",
    "# Creating the plot\n",
    "\n",
    "plt.figure(figsize=(10, 5))\n",
    "sns.boxplot(x=filtered_df_male)\n",
    "plt.title('Box Plot Male')\n",
    "plt.grid(True)\n",
    "plt.show()\n",
    "\n",
    "plt.figure(figsize=(10, 5))\n",
    "sns.boxplot(x=filtered_df_female)\n",
    "plt.title('Box Plot Female')\n",
    "plt.grid(True)\n",
    "plt.show()"
   ],
   "id": "3c49afb7142d6c3f",
   "outputs": [],
   "execution_count": null
  },
  {
   "metadata": {},
   "cell_type": "code",
   "source": [
    "ttest,p_value = stats.ttest_ind(filtered_df_male,filtered_df_female)\n",
    "print(\"p value:%.8f\" % p_value)\n",
    "\n",
    "if p_value < 0.05:\n",
    "    print(\"Reject null hypothesis\")\n",
    "else:\n",
    "    print(\"Fail to reject null hypothesis\")"
   ],
   "id": "3f3746546c8d3d42",
   "outputs": [],
   "execution_count": null
  },
  {
   "metadata": {},
   "cell_type": "markdown",
   "source": [
    "\n",
    "### Conclusion\n",
    "<img src=\"../data/ex7-2.png\" width=\"1200\" height=\"800\" />\n",
    "<br>\n",
    "\n",
    "A two-tailed independent t-test with unequal variance is appropriate here because looking at the box plot for the two data sets the spread for both data are different and suggests that the variance for the sample data is unequal. <br>\n",
    "\n",
    "As the p-value obtained that is 0.014 from the two-tailed independent t-test is less than the significance level or the $\\alpha$ value of 0.05 which leads to the rejection of the null hypothesis. This test suggests that there is a difference between the mean between male and female income. Also the mean of the two data set shows us different means where the mean of the income of males is 52.91 compared to the female which is 44.23, showing that the male earn more than the female counterpart."
   ],
   "id": "bac71777ab628552"
  },
  {
   "metadata": {},
   "cell_type": "markdown",
   "source": [
    "# References\n",
    "Khatun, N., 2021. Applications of normality test in statistical analysis. Open Journal of Statistics, 11(01), p.113."
   ],
   "id": "26166d1e510efbd7"
  }
 ],
 "metadata": {
  "kernelspec": {
   "display_name": "Python 3",
   "language": "python",
   "name": "python3"
  },
  "language_info": {
   "codemirror_mode": {
    "name": "ipython",
    "version": 2
   },
   "file_extension": ".py",
   "mimetype": "text/x-python",
   "name": "python",
   "nbconvert_exporter": "python",
   "pygments_lexer": "ipython2",
   "version": "2.7.6"
  }
 },
 "nbformat": 4,
 "nbformat_minor": 5
}
